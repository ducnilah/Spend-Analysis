{
 "cells": [
  {
   "cell_type": "code",
   "execution_count": 2,
   "metadata": {},
   "outputs": [],
   "source": [
    "import pandas as pd\n",
    "import zipfile\n",
    "import kaggle"
   ]
  },
  {
   "cell_type": "code",
   "execution_count": 3,
   "metadata": {},
   "outputs": [
    {
     "name": "stderr",
     "output_type": "stream",
     "text": [
      "565.53s - pydevd: Sending message related to process being replaced timed-out after 5 seconds\n"
     ]
    },
    {
     "name": "stdout",
     "output_type": "stream",
     "text": [
      "Dataset URL: https://www.kaggle.com/datasets/shahriarkabir/company-purchasing-dataset\n",
      "License(s): CC0-1.0\n",
      "Downloading company-purchasing-dataset.zip to /Users/m1/Documents/code/DA_Personal_Project/project\n",
      "  0%|                                               | 0.00/9.27k [00:00<?, ?B/s]\n",
      "100%|██████████████████████████████████████| 9.27k/9.27k [00:00<00:00, 19.9MB/s]\n"
     ]
    }
   ],
   "source": [
    "# download the dataset from Kaggle with API\n",
    "!kaggle datasets download -d shahriarkabir/company-purchasing-dataset"
   ]
  },
  {
   "cell_type": "code",
   "execution_count": 5,
   "metadata": {},
   "outputs": [],
   "source": [
    "# extract the file from the downloaded zip\n",
    "zipfile_name = \"company-purchasing-dataset.zip\"\n",
    "with zipfile.ZipFile(zipfile_name, 'r') as file:\n",
    "    file.extractall()"
   ]
  },
  {
   "cell_type": "code",
   "execution_count": 7,
   "metadata": {},
   "outputs": [],
   "source": [
    "# read csv and load into a DataFrame to analyze\n",
    "dataset = pd.read_csv(\"spend_analysis_dataset.csv\")"
   ]
  },
  {
   "cell_type": "code",
   "execution_count": 8,
   "metadata": {},
   "outputs": [
    {
     "name": "stdout",
     "output_type": "stream",
     "text": [
      "<class 'pandas.core.frame.DataFrame'>\n",
      "RangeIndex: 500 entries, 0 to 499\n",
      "Data columns (total 9 columns):\n",
      " #   Column         Non-Null Count  Dtype  \n",
      "---  ------         --------------  -----  \n",
      " 0   TransactionID  500 non-null    object \n",
      " 1   ItemName       500 non-null    object \n",
      " 2   Category       500 non-null    object \n",
      " 3   Quantity       500 non-null    int64  \n",
      " 4   UnitPrice      500 non-null    float64\n",
      " 5   TotalCost      500 non-null    float64\n",
      " 6   PurchaseDate   500 non-null    object \n",
      " 7   Supplier       500 non-null    object \n",
      " 8   Buyer          500 non-null    object \n",
      "dtypes: float64(2), int64(1), object(6)\n",
      "memory usage: 35.3+ KB\n"
     ]
    }
   ],
   "source": [
    "dataset.info()"
   ]
  },
  {
   "cell_type": "markdown",
   "metadata": {},
   "source": [
    "There is no null value in this dataset as i expected, so this dataset is probably a clean dataset. We need to know a little more about this dataset to make sure this dataset is 100% clean and understand this so we could get some insights."
   ]
  },
  {
   "cell_type": "code",
   "execution_count": 9,
   "metadata": {},
   "outputs": [
    {
     "data": {
      "text/plain": [
       "(500, 9)"
      ]
     },
     "execution_count": 9,
     "metadata": {},
     "output_type": "execute_result"
    }
   ],
   "source": [
    "dataset.shape"
   ]
  },
  {
   "cell_type": "code",
   "execution_count": 12,
   "metadata": {},
   "outputs": [
    {
     "data": {
      "text/html": [
       "<div>\n",
       "<style scoped>\n",
       "    .dataframe tbody tr th:only-of-type {\n",
       "        vertical-align: middle;\n",
       "    }\n",
       "\n",
       "    .dataframe tbody tr th {\n",
       "        vertical-align: top;\n",
       "    }\n",
       "\n",
       "    .dataframe thead th {\n",
       "        text-align: right;\n",
       "    }\n",
       "</style>\n",
       "<table border=\"1\" class=\"dataframe\">\n",
       "  <thead>\n",
       "    <tr style=\"text-align: right;\">\n",
       "      <th></th>\n",
       "      <th>TransactionID</th>\n",
       "      <th>ItemName</th>\n",
       "      <th>Category</th>\n",
       "      <th>Quantity</th>\n",
       "      <th>UnitPrice</th>\n",
       "      <th>TotalCost</th>\n",
       "      <th>PurchaseDate</th>\n",
       "      <th>Supplier</th>\n",
       "      <th>Buyer</th>\n",
       "    </tr>\n",
       "  </thead>\n",
       "  <tbody>\n",
       "    <tr>\n",
       "      <th>0</th>\n",
       "      <td>TXN001</td>\n",
       "      <td>Desk Chair</td>\n",
       "      <td>Furniture</td>\n",
       "      <td>10</td>\n",
       "      <td>113.15</td>\n",
       "      <td>1131.50</td>\n",
       "      <td>2024-04-19</td>\n",
       "      <td>TechMart Inc.</td>\n",
       "      <td>Kelly Joseph</td>\n",
       "    </tr>\n",
       "    <tr>\n",
       "      <th>1</th>\n",
       "      <td>TXN002</td>\n",
       "      <td>Stapler</td>\n",
       "      <td>Office Supplies</td>\n",
       "      <td>16</td>\n",
       "      <td>12.62</td>\n",
       "      <td>201.92</td>\n",
       "      <td>2024-07-06</td>\n",
       "      <td>CloudSoft Corp.</td>\n",
       "      <td>Kelly Joseph</td>\n",
       "    </tr>\n",
       "    <tr>\n",
       "      <th>2</th>\n",
       "      <td>TXN003</td>\n",
       "      <td>Annual Software License</td>\n",
       "      <td>Software</td>\n",
       "      <td>1</td>\n",
       "      <td>5649.34</td>\n",
       "      <td>5649.34</td>\n",
       "      <td>2024-09-10</td>\n",
       "      <td>TechMart Inc.</td>\n",
       "      <td>Kelly Joseph</td>\n",
       "    </tr>\n",
       "    <tr>\n",
       "      <th>3</th>\n",
       "      <td>TXN004</td>\n",
       "      <td>Notepad</td>\n",
       "      <td>Stationery</td>\n",
       "      <td>13</td>\n",
       "      <td>2.92</td>\n",
       "      <td>37.96</td>\n",
       "      <td>2024-01-21</td>\n",
       "      <td>FurniWorks Ltd.</td>\n",
       "      <td>Luis Holland</td>\n",
       "    </tr>\n",
       "    <tr>\n",
       "      <th>4</th>\n",
       "      <td>TXN005</td>\n",
       "      <td>Notepad</td>\n",
       "      <td>Stationery</td>\n",
       "      <td>19</td>\n",
       "      <td>1.39</td>\n",
       "      <td>26.41</td>\n",
       "      <td>2024-02-03</td>\n",
       "      <td>TechMart Inc.</td>\n",
       "      <td>Cynthia Jenkins</td>\n",
       "    </tr>\n",
       "    <tr>\n",
       "      <th>5</th>\n",
       "      <td>TXN006</td>\n",
       "      <td>Printer</td>\n",
       "      <td>Electronics</td>\n",
       "      <td>19</td>\n",
       "      <td>150.94</td>\n",
       "      <td>2867.86</td>\n",
       "      <td>2024-11-28</td>\n",
       "      <td>FurniWorks Ltd.</td>\n",
       "      <td>Stephanie Bennett</td>\n",
       "    </tr>\n",
       "    <tr>\n",
       "      <th>6</th>\n",
       "      <td>TXN007</td>\n",
       "      <td>Notepad</td>\n",
       "      <td>Stationery</td>\n",
       "      <td>8</td>\n",
       "      <td>2.73</td>\n",
       "      <td>21.84</td>\n",
       "      <td>2024-02-19</td>\n",
       "      <td>OfficeSupplies Co.</td>\n",
       "      <td>Todd James</td>\n",
       "    </tr>\n",
       "    <tr>\n",
       "      <th>7</th>\n",
       "      <td>TXN008</td>\n",
       "      <td>Notepad</td>\n",
       "      <td>Stationery</td>\n",
       "      <td>4</td>\n",
       "      <td>2.42</td>\n",
       "      <td>9.68</td>\n",
       "      <td>2024-09-11</td>\n",
       "      <td>FurniWorks Ltd.</td>\n",
       "      <td>Aaron Hopkins</td>\n",
       "    </tr>\n",
       "    <tr>\n",
       "      <th>8</th>\n",
       "      <td>TXN009</td>\n",
       "      <td>Printer Ink</td>\n",
       "      <td>Stationery</td>\n",
       "      <td>13</td>\n",
       "      <td>11.89</td>\n",
       "      <td>154.57</td>\n",
       "      <td>2024-04-12</td>\n",
       "      <td>FurniWorks Ltd.</td>\n",
       "      <td>Kevin Adams</td>\n",
       "    </tr>\n",
       "    <tr>\n",
       "      <th>9</th>\n",
       "      <td>TXN010</td>\n",
       "      <td>Whiteboard</td>\n",
       "      <td>Furniture</td>\n",
       "      <td>19</td>\n",
       "      <td>100.82</td>\n",
       "      <td>1915.58</td>\n",
       "      <td>2024-12-14</td>\n",
       "      <td>FurniWorks Ltd.</td>\n",
       "      <td>Aaron Hopkins</td>\n",
       "    </tr>\n",
       "  </tbody>\n",
       "</table>\n",
       "</div>"
      ],
      "text/plain": [
       "  TransactionID                 ItemName         Category  Quantity  \\\n",
       "0        TXN001               Desk Chair        Furniture        10   \n",
       "1        TXN002                  Stapler  Office Supplies        16   \n",
       "2        TXN003  Annual Software License         Software         1   \n",
       "3        TXN004                  Notepad       Stationery        13   \n",
       "4        TXN005                  Notepad       Stationery        19   \n",
       "5        TXN006                  Printer      Electronics        19   \n",
       "6        TXN007                  Notepad       Stationery         8   \n",
       "7        TXN008                  Notepad       Stationery         4   \n",
       "8        TXN009              Printer Ink       Stationery        13   \n",
       "9        TXN010               Whiteboard        Furniture        19   \n",
       "\n",
       "   UnitPrice  TotalCost PurchaseDate            Supplier              Buyer  \n",
       "0     113.15    1131.50   2024-04-19       TechMart Inc.       Kelly Joseph  \n",
       "1      12.62     201.92   2024-07-06     CloudSoft Corp.       Kelly Joseph  \n",
       "2    5649.34    5649.34   2024-09-10       TechMart Inc.       Kelly Joseph  \n",
       "3       2.92      37.96   2024-01-21     FurniWorks Ltd.       Luis Holland  \n",
       "4       1.39      26.41   2024-02-03       TechMart Inc.    Cynthia Jenkins  \n",
       "5     150.94    2867.86   2024-11-28     FurniWorks Ltd.  Stephanie Bennett  \n",
       "6       2.73      21.84   2024-02-19  OfficeSupplies Co.         Todd James  \n",
       "7       2.42       9.68   2024-09-11     FurniWorks Ltd.      Aaron Hopkins  \n",
       "8      11.89     154.57   2024-04-12     FurniWorks Ltd.        Kevin Adams  \n",
       "9     100.82    1915.58   2024-12-14     FurniWorks Ltd.      Aaron Hopkins  "
      ]
     },
     "execution_count": 12,
     "metadata": {},
     "output_type": "execute_result"
    }
   ],
   "source": [
    "dataset.head(10)"
   ]
  },
  {
   "cell_type": "markdown",
   "metadata": {},
   "source": [
    "This dataset is good to go. I could not find out anything to do cleaning."
   ]
  },
  {
   "cell_type": "code",
   "execution_count": 14,
   "metadata": {},
   "outputs": [
    {
     "data": {
      "text/plain": [
       "Category\n",
       "Electronics        146\n",
       "Furniture          102\n",
       "Stationery          90\n",
       "Office Supplies     60\n",
       "Accessories         56\n",
       "Software            46\n",
       "Name: count, dtype: int64"
      ]
     },
     "execution_count": 14,
     "metadata": {},
     "output_type": "execute_result"
    }
   ],
   "source": [
    "dataset.Category.value_counts()"
   ]
  },
  {
   "cell_type": "markdown",
   "metadata": {},
   "source": [
    "By the names, looks like this dataset is extracted from a database."
   ]
  },
  {
   "cell_type": "code",
   "execution_count": 15,
   "metadata": {},
   "outputs": [],
   "source": [
    "# specify the column names i will use\n",
    "new_col_dict = {\n",
    "    \"TransactionID\": \"Transaction ID\",\n",
    "    \"ItemName\" : \"Item Name\",\n",
    "    \"Category\": \"Category\",\n",
    "    \"Quantity\": \"Quantity\",\n",
    "    \"UnitPrice\": \"Price\",\n",
    "    \"TotalCost\": \"Cost\",\n",
    "    \"PurchaseDate\": \"Date\",\n",
    "    \"Supplier\": \"Supplier\",\n",
    "    \"Buyer\": \"Buyer\"\n",
    "}\n",
    "\n",
    "dataset.rename(new _col_dict, axis=1, inplace=True)"
   ]
  },
  {
   "cell_type": "code",
   "execution_count": 18,
   "metadata": {},
   "outputs": [],
   "source": [
    "dataset.to_excel(\"spend_analysis_dataset.xlsx\", sheet_name=\"Dataset\")"
   ]
  }
 ],
 "metadata": {
  "kernelspec": {
   "display_name": "Python 3",
   "language": "python",
   "name": "python3"
  },
  "language_info": {
   "codemirror_mode": {
    "name": "ipython",
    "version": 3
   },
   "file_extension": ".py",
   "mimetype": "text/x-python",
   "name": "python",
   "nbconvert_exporter": "python",
   "pygments_lexer": "ipython3",
   "version": "3.12.3"
  }
 },
 "nbformat": 4,
 "nbformat_minor": 2
}
